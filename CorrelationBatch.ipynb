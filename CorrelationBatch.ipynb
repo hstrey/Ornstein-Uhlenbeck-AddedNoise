{
 "cells": [
  {
   "cell_type": "code",
   "execution_count": 1,
   "metadata": {},
   "outputs": [],
   "source": [
    "%matplotlib inline\n",
    "# this program is going to estimate parameters from simulated datasets that originate from an OU process\n",
    "# with noise added.  The parameters of the simulation and the length of the simulation are set through\n",
    "# arguments\n",
    "import langevin\n",
    "import pandas as pd\n",
    "import numpy as np\n",
    "import argparse\n",
    "import pymc3 as pm\n",
    "import theano.tensor as tt\n",
    "from scipy.stats import pearsonr\n",
    "from scipy.optimize import root\n",
    "\n"
   ]
  },
  {
   "cell_type": "code",
   "execution_count": 2,
   "metadata": {},
   "outputs": [],
   "source": [
    "class Ornstein_Uhlenbeck(pm.Continuous):\n",
    "    \"\"\"\n",
    "    Ornstein-Uhlenbeck Process\n",
    "    Parameters\n",
    "    ----------\n",
    "    B : tensor\n",
    "        B > 0, B = exp(-(D/A)*delta_t)\n",
    "    A : tensor\n",
    "        A > 0, amplitude of fluctuation <x**2>=A\n",
    "    delta_t: scalar\n",
    "        delta_t > 0, time step\n",
    "    \"\"\"\n",
    "    \n",
    "    def __init__(self, A=None, B=None,\n",
    "                 *args, **kwargs):\n",
    "        super(Ornstein_Uhlenbeck, self).__init__(*args, **kwargs)\n",
    "        self.A = A\n",
    "        self.B = B\n",
    "        self.mean = 0.\n",
    "    \n",
    "    def logp(self, x):\n",
    "        A = self.A\n",
    "        B = self.B\n",
    "        \n",
    "        x_im1 = x[:-1]\n",
    "        x_i = x[1:]\n",
    "        \n",
    "        ou_like = pm.Normal.dist(mu=x_im1*B, tau=1.0/A/(1-B**2)).logp(x_i)\n",
    "        return pm.Normal.dist(mu=0.0,tau=1.0/A).logp(x[0]) + tt.sum(ou_like)"
   ]
  },
  {
   "cell_type": "code",
   "execution_count": 9,
   "metadata": {},
   "outputs": [],
   "source": [
    "def calc_fundstats(x):\n",
    "    return x[0]**2+x[-1]**2,np.sum(x[1:-1]**2),np.sum(x[0:-1]*x[1:])\n"
   ]
  },
  {
   "cell_type": "code",
   "execution_count": 3,
   "metadata": {},
   "outputs": [],
   "source": [
    "def correlated_ts(c,delta_t = 0.1,N=1000):\n",
    "    # parameters for coupled oscillator\n",
    "    K,D = 1.0,1.0\n",
    "    data1 = langevin.time_series(A=1/K, D=D, delta_t=delta_t, N=N)\n",
    "    data2 = langevin.time_series(A=1/(K+np.abs(c)), D=D, delta_t=delta_t, N=N)\n",
    "    x1 = (data1 + data2)/2\n",
    "    if c>0:\n",
    "        x2 = (data1 - data2)/2\n",
    "    else:\n",
    "        x2 = (data2-data1)/2\n",
    "\n",
    "    return x1,x2"
   ]
  },
  {
   "cell_type": "code",
   "execution_count": 14,
   "metadata": {},
   "outputs": [],
   "source": [
    "#parameters\n",
    "a_bound=5\n",
    "rho=0.9\n",
    "N=1000\n",
    "M=100\n",
    "delta_t = 0.3"
   ]
  },
  {
   "cell_type": "code",
   "execution_count": 15,
   "metadata": {},
   "outputs": [
    {
     "name": "stdout",
     "output_type": "stream",
     "text": [
      "pearson:  0.8972868301178325\n"
     ]
    },
    {
     "name": "stderr",
     "output_type": "stream",
     "text": [
      "Auto-assigning NUTS sampler...\n",
      "Initializing NUTS using jitter+adapt_diag...\n",
      "Multiprocess sampling (4 chains in 4 jobs)\n",
      "NUTS: [D, A2, A1]\n",
      "Sampling 4 chains, 0 divergences: 100%|██████████| 48000/48000 [00:17<00:00, 2807.17draws/s]\n"
     ]
    },
    {
     "name": "stdout",
     "output_type": "stream",
     "text": [
      "predicted C:  18.055542701966537  +-  1.8491499454120297\n",
      "pearson:  0.8863937199690196\n"
     ]
    },
    {
     "name": "stderr",
     "output_type": "stream",
     "text": [
      "Auto-assigning NUTS sampler...\n",
      "Initializing NUTS using jitter+adapt_diag...\n",
      "Multiprocess sampling (4 chains in 4 jobs)\n",
      "NUTS: [D, A2, A1]\n",
      "Sampling 4 chains, 0 divergences: 100%|██████████| 48000/48000 [00:18<00:00, 2554.29draws/s]\n"
     ]
    },
    {
     "name": "stdout",
     "output_type": "stream",
     "text": [
      "predicted C:  15.877805030196056  +-  1.5974955512651399\n",
      "pearson:  0.9007545458631666\n"
     ]
    },
    {
     "name": "stderr",
     "output_type": "stream",
     "text": [
      "Auto-assigning NUTS sampler...\n",
      "Initializing NUTS using jitter+adapt_diag...\n",
      "Multiprocess sampling (4 chains in 4 jobs)\n",
      "NUTS: [D, A2, A1]\n",
      "Sampling 4 chains, 0 divergences: 100%|██████████| 48000/48000 [00:19<00:00, 2413.29draws/s]\n"
     ]
    },
    {
     "name": "stdout",
     "output_type": "stream",
     "text": [
      "predicted C:  19.288857550558244  +-  1.994403356717795\n",
      "pearson:  0.8802738982685117\n"
     ]
    },
    {
     "name": "stderr",
     "output_type": "stream",
     "text": [
      "Auto-assigning NUTS sampler...\n",
      "Initializing NUTS using jitter+adapt_diag...\n",
      "Multiprocess sampling (4 chains in 4 jobs)\n",
      "NUTS: [D, A2, A1]\n",
      "Sampling 4 chains, 0 divergences: 100%|██████████| 48000/48000 [00:19<00:00, 2469.47draws/s]\n"
     ]
    },
    {
     "name": "stdout",
     "output_type": "stream",
     "text": [
      "predicted C:  14.973884695071115  +-  1.4964949083967103\n",
      "pearson:  0.8972277376061375\n"
     ]
    },
    {
     "name": "stderr",
     "output_type": "stream",
     "text": [
      "Auto-assigning NUTS sampler...\n",
      "Initializing NUTS using jitter+adapt_diag...\n",
      "Multiprocess sampling (4 chains in 4 jobs)\n",
      "NUTS: [D, A2, A1]\n",
      "Sampling 4 chains, 0 divergences: 100%|██████████| 48000/48000 [00:20<00:00, 2357.24draws/s]\n"
     ]
    },
    {
     "name": "stdout",
     "output_type": "stream",
     "text": [
      "predicted C:  17.810677453136147  +-  1.8453253030965173\n",
      "pearson:  0.8959951614252715\n"
     ]
    },
    {
     "name": "stderr",
     "output_type": "stream",
     "text": [
      "Auto-assigning NUTS sampler...\n",
      "Initializing NUTS using jitter+adapt_diag...\n",
      "Multiprocess sampling (4 chains in 4 jobs)\n",
      "NUTS: [D, A2, A1]\n",
      "Sampling 4 chains, 0 divergences: 100%|██████████| 48000/48000 [00:25<00:00, 1901.58draws/s]\n"
     ]
    },
    {
     "name": "stdout",
     "output_type": "stream",
     "text": [
      "predicted C:  18.13267320262047  +-  1.87731014108695\n",
      "pearson:  0.9044937357649772\n"
     ]
    },
    {
     "name": "stderr",
     "output_type": "stream",
     "text": [
      "Auto-assigning NUTS sampler...\n",
      "Initializing NUTS using jitter+adapt_diag...\n",
      "Multiprocess sampling (4 chains in 4 jobs)\n",
      "NUTS: [D, A2, A1]\n",
      "Sampling 4 chains, 0 divergences: 100%|██████████| 48000/48000 [00:16<00:00, 2871.37draws/s]\n"
     ]
    },
    {
     "name": "stdout",
     "output_type": "stream",
     "text": [
      "predicted C:  19.75511872212861  +-  2.0682287327989246\n",
      "pearson:  0.8986569681696679\n"
     ]
    },
    {
     "name": "stderr",
     "output_type": "stream",
     "text": [
      "Auto-assigning NUTS sampler...\n",
      "Initializing NUTS using jitter+adapt_diag...\n",
      "Multiprocess sampling (4 chains in 4 jobs)\n",
      "NUTS: [D, A2, A1]\n",
      "Sampling 4 chains, 0 divergences: 100%|██████████| 48000/48000 [00:20<00:00, 2360.45draws/s]\n"
     ]
    },
    {
     "name": "stdout",
     "output_type": "stream",
     "text": [
      "predicted C:  18.09558757449107  +-  1.820655545589036\n",
      "pearson:  0.8943990896168099\n"
     ]
    },
    {
     "name": "stderr",
     "output_type": "stream",
     "text": [
      "Auto-assigning NUTS sampler...\n",
      "Initializing NUTS using jitter+adapt_diag...\n",
      "Multiprocess sampling (4 chains in 4 jobs)\n",
      "NUTS: [D, A2, A1]\n",
      "Sampling 4 chains, 0 divergences: 100%|██████████| 48000/48000 [00:15<00:00, 3040.98draws/s]\n"
     ]
    },
    {
     "name": "stdout",
     "output_type": "stream",
     "text": [
      "predicted C:  17.249339215610775  +-  1.7150035048670318\n",
      "pearson:  0.8891449022883116\n"
     ]
    },
    {
     "name": "stderr",
     "output_type": "stream",
     "text": [
      "Auto-assigning NUTS sampler...\n",
      "Initializing NUTS using jitter+adapt_diag...\n",
      "Multiprocess sampling (4 chains in 4 jobs)\n",
      "NUTS: [D, A2, A1]\n",
      "Sampling 4 chains, 0 divergences: 100%|██████████| 48000/48000 [00:15<00:00, 3171.13draws/s]\n"
     ]
    },
    {
     "name": "stdout",
     "output_type": "stream",
     "text": [
      "predicted C:  16.560449267939408  +-  1.6806615509509397\n",
      "pearson:  0.8889782647922129\n"
     ]
    },
    {
     "name": "stderr",
     "output_type": "stream",
     "text": [
      "Auto-assigning NUTS sampler...\n",
      "Initializing NUTS using jitter+adapt_diag...\n",
      "Multiprocess sampling (4 chains in 4 jobs)\n",
      "NUTS: [D, A2, A1]\n",
      "Sampling 4 chains, 0 divergences: 100%|██████████| 48000/48000 [00:14<00:00, 3261.76draws/s]\n"
     ]
    },
    {
     "name": "stdout",
     "output_type": "stream",
     "text": [
      "predicted C:  16.32308847903057  +-  1.6023033177639876\n",
      "pearson:  0.881507981546356\n"
     ]
    },
    {
     "name": "stderr",
     "output_type": "stream",
     "text": [
      "Auto-assigning NUTS sampler...\n",
      "Initializing NUTS using jitter+adapt_diag...\n",
      "Multiprocess sampling (4 chains in 4 jobs)\n",
      "NUTS: [D, A2, A1]\n",
      "Sampling 4 chains, 0 divergences: 100%|██████████| 48000/48000 [00:16<00:00, 2887.89draws/s]\n"
     ]
    },
    {
     "name": "stdout",
     "output_type": "stream",
     "text": [
      "predicted C:  15.234128730943864  +-  1.529789885726002\n",
      "pearson:  0.9063274187677626\n"
     ]
    },
    {
     "name": "stderr",
     "output_type": "stream",
     "text": [
      "Auto-assigning NUTS sampler...\n",
      "Initializing NUTS using jitter+adapt_diag...\n",
      "Multiprocess sampling (4 chains in 4 jobs)\n",
      "NUTS: [D, A2, A1]\n",
      "Sampling 4 chains, 0 divergences: 100%|██████████| 48000/48000 [00:18<00:00, 2622.72draws/s]\n"
     ]
    },
    {
     "name": "stdout",
     "output_type": "stream",
     "text": [
      "predicted C:  19.8411384976784  +-  2.0448650370278307\n",
      "pearson:  0.8948310897942063\n"
     ]
    },
    {
     "name": "stderr",
     "output_type": "stream",
     "text": [
      "Auto-assigning NUTS sampler...\n",
      "Initializing NUTS using jitter+adapt_diag...\n",
      "Multiprocess sampling (4 chains in 4 jobs)\n",
      "NUTS: [D, A2, A1]\n",
      "Sampling 4 chains, 0 divergences: 100%|██████████| 48000/48000 [00:19<00:00, 2505.78draws/s]\n"
     ]
    },
    {
     "name": "stdout",
     "output_type": "stream",
     "text": [
      "predicted C:  17.431489387644653  +-  1.7978363892919569\n",
      "pearson:  0.8860247864193778\n"
     ]
    },
    {
     "name": "stderr",
     "output_type": "stream",
     "text": [
      "Auto-assigning NUTS sampler...\n",
      "Initializing NUTS using jitter+adapt_diag...\n",
      "Multiprocess sampling (4 chains in 4 jobs)\n",
      "NUTS: [D, A2, A1]\n",
      "Sampling 4 chains, 0 divergences: 100%|██████████| 48000/48000 [00:19<00:00, 2462.29draws/s]\n"
     ]
    },
    {
     "name": "stdout",
     "output_type": "stream",
     "text": [
      "predicted C:  15.951537620054744  +-  1.618652610265972\n",
      "pearson:  0.8953844948023266\n"
     ]
    },
    {
     "name": "stderr",
     "output_type": "stream",
     "text": [
      "Auto-assigning NUTS sampler...\n",
      "Initializing NUTS using jitter+adapt_diag...\n",
      "Multiprocess sampling (4 chains in 4 jobs)\n",
      "NUTS: [D, A2, A1]\n",
      "Sampling 4 chains, 0 divergences: 100%|██████████| 48000/48000 [00:18<00:00, 2532.81draws/s]\n"
     ]
    },
    {
     "name": "stdout",
     "output_type": "stream",
     "text": [
      "predicted C:  17.44546979212109  +-  1.8250087666438395\n",
      "pearson:  0.903567683680096\n"
     ]
    },
    {
     "name": "stderr",
     "output_type": "stream",
     "text": [
      "Auto-assigning NUTS sampler...\n",
      "Initializing NUTS using jitter+adapt_diag...\n",
      "Multiprocess sampling (4 chains in 4 jobs)\n",
      "NUTS: [D, A2, A1]\n",
      "Sampling 4 chains, 0 divergences: 100%|██████████| 48000/48000 [00:18<00:00, 2601.34draws/s]\n"
     ]
    },
    {
     "name": "stdout",
     "output_type": "stream",
     "text": [
      "predicted C:  19.21839378001276  +-  2.037216224958316\n",
      "pearson:  0.8974010972163595\n"
     ]
    },
    {
     "name": "stderr",
     "output_type": "stream",
     "text": [
      "Auto-assigning NUTS sampler...\n",
      "Initializing NUTS using jitter+adapt_diag...\n",
      "Multiprocess sampling (4 chains in 4 jobs)\n",
      "NUTS: [D, A2, A1]\n",
      "Sampling 4 chains, 0 divergences: 100%|██████████| 48000/48000 [00:20<00:00, 2370.45draws/s]\n"
     ]
    },
    {
     "name": "stdout",
     "output_type": "stream",
     "text": [
      "predicted C:  17.82497770339256  +-  1.8167716047419582\n",
      "pearson:  0.9113706348520911\n"
     ]
    },
    {
     "name": "stderr",
     "output_type": "stream",
     "text": [
      "Auto-assigning NUTS sampler...\n",
      "Initializing NUTS using jitter+adapt_diag...\n",
      "Multiprocess sampling (4 chains in 4 jobs)\n",
      "NUTS: [D, A2, A1]\n",
      "Sampling 4 chains, 0 divergences: 100%|██████████| 48000/48000 [00:22<00:00, 2152.08draws/s]\n"
     ]
    },
    {
     "name": "stdout",
     "output_type": "stream",
     "text": [
      "predicted C:  21.10961572444345  +-  2.3679598429159023\n",
      "pearson:  0.9027409548803085\n"
     ]
    },
    {
     "name": "stderr",
     "output_type": "stream",
     "text": [
      "Auto-assigning NUTS sampler...\n",
      "Initializing NUTS using jitter+adapt_diag...\n",
      "Multiprocess sampling (4 chains in 4 jobs)\n",
      "NUTS: [D, A2, A1]\n",
      "Sampling 4 chains, 0 divergences: 100%|██████████| 48000/48000 [00:19<00:00, 2436.32draws/s]\n"
     ]
    },
    {
     "name": "stdout",
     "output_type": "stream",
     "text": [
      "predicted C:  19.100196815000928  +-  1.9909168054075588\n",
      "pearson:  0.8810038402461088\n"
     ]
    },
    {
     "name": "stderr",
     "output_type": "stream",
     "text": [
      "Auto-assigning NUTS sampler...\n",
      "Initializing NUTS using jitter+adapt_diag...\n",
      "Multiprocess sampling (4 chains in 4 jobs)\n",
      "NUTS: [D, A2, A1]\n",
      "Sampling 4 chains, 0 divergences: 100%|██████████| 48000/48000 [00:19<00:00, 2494.11draws/s]\n"
     ]
    },
    {
     "name": "stdout",
     "output_type": "stream",
     "text": [
      "predicted C:  15.167383605869981  +-  1.547241474429971\n",
      "pearson:  0.905214091714975\n"
     ]
    },
    {
     "name": "stderr",
     "output_type": "stream",
     "text": [
      "Auto-assigning NUTS sampler...\n",
      "Initializing NUTS using jitter+adapt_diag...\n",
      "Multiprocess sampling (4 chains in 4 jobs)\n",
      "NUTS: [D, A2, A1]\n",
      "Sampling 4 chains, 0 divergences: 100%|██████████| 48000/48000 [00:19<00:00, 2441.48draws/s]\n"
     ]
    },
    {
     "name": "stdout",
     "output_type": "stream",
     "text": [
      "predicted C:  19.378613882635076  +-  2.0433520237380605\n",
      "pearson:  0.9057483499824485\n"
     ]
    },
    {
     "name": "stderr",
     "output_type": "stream",
     "text": [
      "Auto-assigning NUTS sampler...\n",
      "Initializing NUTS using jitter+adapt_diag...\n",
      "Multiprocess sampling (4 chains in 4 jobs)\n",
      "NUTS: [D, A2, A1]\n",
      "Sampling 4 chains, 0 divergences: 100%|██████████| 48000/48000 [00:19<00:00, 2511.01draws/s]\n"
     ]
    },
    {
     "name": "stdout",
     "output_type": "stream",
     "text": [
      "predicted C:  19.847034010029148  +-  2.0735674431678217\n",
      "pearson:  0.9111877422397634\n"
     ]
    },
    {
     "name": "stderr",
     "output_type": "stream",
     "text": [
      "Auto-assigning NUTS sampler...\n",
      "Initializing NUTS using jitter+adapt_diag...\n",
      "Multiprocess sampling (4 chains in 4 jobs)\n",
      "NUTS: [D, A2, A1]\n",
      "Sampling 4 chains, 0 divergences: 100%|██████████| 48000/48000 [00:19<00:00, 2444.48draws/s]\n"
     ]
    },
    {
     "name": "stdout",
     "output_type": "stream",
     "text": [
      "predicted C:  20.912289175911376  +-  2.1867378551819536\n",
      "pearson:  0.8799205477268206\n"
     ]
    },
    {
     "name": "stderr",
     "output_type": "stream",
     "text": [
      "Auto-assigning NUTS sampler...\n",
      "Initializing NUTS using jitter+adapt_diag...\n",
      "Multiprocess sampling (4 chains in 4 jobs)\n",
      "NUTS: [D, A2, A1]\n",
      "Sampling 4 chains, 0 divergences: 100%|██████████| 48000/48000 [00:19<00:00, 2513.80draws/s]\n"
     ]
    },
    {
     "name": "stdout",
     "output_type": "stream",
     "text": [
      "predicted C:  14.933913527462666  +-  1.484066188283086\n",
      "pearson:  0.9087731867900973\n"
     ]
    },
    {
     "name": "stderr",
     "output_type": "stream",
     "text": [
      "Auto-assigning NUTS sampler...\n",
      "Initializing NUTS using jitter+adapt_diag...\n",
      "Multiprocess sampling (4 chains in 4 jobs)\n",
      "NUTS: [D, A2, A1]\n",
      "Sampling 4 chains, 0 divergences: 100%|██████████| 48000/48000 [00:19<00:00, 2490.98draws/s]\n"
     ]
    },
    {
     "name": "stdout",
     "output_type": "stream",
     "text": [
      "predicted C:  20.205572625549213  +-  2.1202147316506053\n",
      "pearson:  0.9142730426610711\n"
     ]
    },
    {
     "name": "stderr",
     "output_type": "stream",
     "text": [
      "Auto-assigning NUTS sampler...\n",
      "Initializing NUTS using jitter+adapt_diag...\n",
      "Multiprocess sampling (4 chains in 4 jobs)\n",
      "NUTS: [D, A2, A1]\n",
      "Sampling 4 chains, 0 divergences: 100%|██████████| 48000/48000 [00:18<00:00, 2545.87draws/s]\n"
     ]
    },
    {
     "name": "stdout",
     "output_type": "stream",
     "text": [
      "predicted C:  22.040033319810934  +-  2.325925440689436\n",
      "pearson:  0.8992013512108838\n"
     ]
    },
    {
     "name": "stderr",
     "output_type": "stream",
     "text": [
      "Auto-assigning NUTS sampler...\n",
      "Initializing NUTS using jitter+adapt_diag...\n",
      "Multiprocess sampling (4 chains in 4 jobs)\n",
      "NUTS: [D, A2, A1]\n",
      "Sampling 4 chains, 0 divergences: 100%|██████████| 48000/48000 [00:18<00:00, 2587.77draws/s]\n"
     ]
    },
    {
     "name": "stdout",
     "output_type": "stream",
     "text": [
      "predicted C:  18.187663974521428  +-  1.8551319203873553\n",
      "pearson:  0.9071154674198165\n"
     ]
    },
    {
     "name": "stderr",
     "output_type": "stream",
     "text": [
      "Auto-assigning NUTS sampler...\n",
      "Initializing NUTS using jitter+adapt_diag...\n",
      "Multiprocess sampling (4 chains in 4 jobs)\n",
      "NUTS: [D, A2, A1]\n",
      "Sampling 4 chains, 0 divergences: 100%|██████████| 48000/48000 [00:18<00:00, 2564.22draws/s]\n"
     ]
    },
    {
     "name": "stdout",
     "output_type": "stream",
     "text": [
      "predicted C:  20.25073688265559  +-  2.154601365461952\n",
      "pearson:  0.8938681066808711\n"
     ]
    },
    {
     "name": "stderr",
     "output_type": "stream",
     "text": [
      "Auto-assigning NUTS sampler...\n",
      "Initializing NUTS using jitter+adapt_diag...\n",
      "Multiprocess sampling (4 chains in 4 jobs)\n",
      "NUTS: [D, A2, A1]\n",
      "Sampling 4 chains, 0 divergences: 100%|██████████| 48000/48000 [00:18<00:00, 2589.58draws/s]\n"
     ]
    },
    {
     "name": "stdout",
     "output_type": "stream",
     "text": [
      "predicted C:  17.12110860496762  +-  1.7917366139389304\n",
      "pearson:  0.8969003220429359\n"
     ]
    },
    {
     "name": "stderr",
     "output_type": "stream",
     "text": [
      "Auto-assigning NUTS sampler...\n",
      "Initializing NUTS using jitter+adapt_diag...\n",
      "Multiprocess sampling (4 chains in 4 jobs)\n",
      "NUTS: [D, A2, A1]\n",
      "Sampling 4 chains, 0 divergences: 100%|██████████| 48000/48000 [00:18<00:00, 2536.56draws/s]\n"
     ]
    },
    {
     "name": "stdout",
     "output_type": "stream",
     "text": [
      "predicted C:  17.769064022415872  +-  1.7522721999718327\n",
      "pearson:  0.8960530319480052\n"
     ]
    },
    {
     "name": "stderr",
     "output_type": "stream",
     "text": [
      "Auto-assigning NUTS sampler...\n",
      "Initializing NUTS using jitter+adapt_diag...\n",
      "Multiprocess sampling (4 chains in 4 jobs)\n",
      "NUTS: [D, A2, A1]\n",
      "Sampling 4 chains, 0 divergences: 100%|██████████| 48000/48000 [00:18<00:00, 2609.78draws/s]\n"
     ]
    },
    {
     "name": "stdout",
     "output_type": "stream",
     "text": [
      "predicted C:  17.588065966456824  +-  1.793973387547961\n",
      "pearson:  0.8992768161370397\n"
     ]
    },
    {
     "name": "stderr",
     "output_type": "stream",
     "text": [
      "Auto-assigning NUTS sampler...\n",
      "Initializing NUTS using jitter+adapt_diag...\n",
      "Multiprocess sampling (4 chains in 4 jobs)\n",
      "NUTS: [D, A2, A1]\n",
      "Sampling 4 chains, 0 divergences: 100%|██████████| 48000/48000 [00:18<00:00, 2576.19draws/s]\n"
     ]
    },
    {
     "name": "stdout",
     "output_type": "stream",
     "text": [
      "predicted C:  18.12270237076307  +-  1.8767923787775116\n",
      "pearson:  0.9120614523203765\n"
     ]
    },
    {
     "name": "stderr",
     "output_type": "stream",
     "text": [
      "Auto-assigning NUTS sampler...\n",
      "Initializing NUTS using jitter+adapt_diag...\n",
      "Multiprocess sampling (4 chains in 4 jobs)\n",
      "NUTS: [D, A2, A1]\n",
      "Sampling 4 chains, 0 divergences: 100%|██████████| 48000/48000 [00:18<00:00, 2562.84draws/s]\n"
     ]
    },
    {
     "name": "stdout",
     "output_type": "stream",
     "text": [
      "predicted C:  21.412881402564793  +-  2.223144985246436\n",
      "pearson:  0.9030744748950674\n"
     ]
    },
    {
     "name": "stderr",
     "output_type": "stream",
     "text": [
      "Auto-assigning NUTS sampler...\n",
      "Initializing NUTS using jitter+adapt_diag...\n",
      "Multiprocess sampling (4 chains in 4 jobs)\n",
      "NUTS: [D, A2, A1]\n",
      "Sampling 4 chains, 0 divergences: 100%|██████████| 48000/48000 [00:19<00:00, 2487.55draws/s]\n"
     ]
    },
    {
     "name": "stdout",
     "output_type": "stream",
     "text": [
      "predicted C:  18.99566949449745  +-  1.9025913408830382\n",
      "pearson:  0.9021440627328812\n"
     ]
    },
    {
     "name": "stderr",
     "output_type": "stream",
     "text": [
      "Auto-assigning NUTS sampler...\n",
      "Initializing NUTS using jitter+adapt_diag...\n",
      "Multiprocess sampling (4 chains in 4 jobs)\n",
      "NUTS: [D, A2, A1]\n",
      "Sampling 4 chains, 0 divergences: 100%|██████████| 48000/48000 [00:18<00:00, 2545.90draws/s]\n"
     ]
    },
    {
     "name": "stdout",
     "output_type": "stream",
     "text": [
      "predicted C:  19.100481858737943  +-  2.0371535795163447\n",
      "pearson:  0.9194407538665417\n"
     ]
    },
    {
     "name": "stderr",
     "output_type": "stream",
     "text": [
      "Auto-assigning NUTS sampler...\n",
      "Initializing NUTS using jitter+adapt_diag...\n",
      "Multiprocess sampling (4 chains in 4 jobs)\n",
      "NUTS: [D, A2, A1]\n",
      "Sampling 4 chains, 0 divergences: 100%|██████████| 48000/48000 [00:20<00:00, 2394.90draws/s]\n"
     ]
    },
    {
     "name": "stdout",
     "output_type": "stream",
     "text": [
      "predicted C:  23.53173484753186  +-  2.5943106242881266\n",
      "pearson:  0.9039705909927723\n"
     ]
    },
    {
     "name": "stderr",
     "output_type": "stream",
     "text": [
      "Auto-assigning NUTS sampler...\n",
      "Initializing NUTS using jitter+adapt_diag...\n",
      "Multiprocess sampling (4 chains in 4 jobs)\n",
      "NUTS: [D, A2, A1]\n",
      "Sampling 4 chains, 0 divergences: 100%|██████████| 48000/48000 [00:17<00:00, 2687.01draws/s]\n"
     ]
    },
    {
     "name": "stdout",
     "output_type": "stream",
     "text": [
      "predicted C:  19.355536652717703  +-  2.1407754842104705\n",
      "pearson:  0.9083990224477657\n"
     ]
    },
    {
     "name": "stderr",
     "output_type": "stream",
     "text": [
      "Auto-assigning NUTS sampler...\n",
      "Initializing NUTS using jitter+adapt_diag...\n",
      "Multiprocess sampling (4 chains in 4 jobs)\n",
      "NUTS: [D, A2, A1]\n",
      "Sampling 4 chains, 0 divergences: 100%|██████████| 48000/48000 [00:17<00:00, 2670.38draws/s]\n"
     ]
    },
    {
     "name": "stdout",
     "output_type": "stream",
     "text": [
      "predicted C:  20.407293248038762  +-  2.1896123527948124\n",
      "pearson:  0.9165628582806944\n"
     ]
    },
    {
     "name": "stderr",
     "output_type": "stream",
     "text": [
      "Auto-assigning NUTS sampler...\n",
      "Initializing NUTS using jitter+adapt_diag...\n",
      "Multiprocess sampling (4 chains in 4 jobs)\n",
      "NUTS: [D, A2, A1]\n",
      "Sampling 4 chains, 0 divergences: 100%|██████████| 48000/48000 [00:18<00:00, 2637.78draws/s]\n"
     ]
    },
    {
     "name": "stdout",
     "output_type": "stream",
     "text": [
      "predicted C:  22.75111867946898  +-  2.5237338331087993\n",
      "pearson:  0.8968180038000839\n"
     ]
    },
    {
     "name": "stderr",
     "output_type": "stream",
     "text": [
      "Auto-assigning NUTS sampler...\n",
      "Initializing NUTS using jitter+adapt_diag...\n",
      "Multiprocess sampling (4 chains in 4 jobs)\n",
      "NUTS: [D, A2, A1]\n",
      "Sampling 4 chains, 0 divergences: 100%|██████████| 48000/48000 [00:17<00:00, 2718.12draws/s]\n"
     ]
    },
    {
     "name": "stdout",
     "output_type": "stream",
     "text": [
      "predicted C:  17.809160339010287  +-  1.9238578399751571\n",
      "pearson:  0.8902483116625867\n"
     ]
    },
    {
     "name": "stderr",
     "output_type": "stream",
     "text": [
      "Auto-assigning NUTS sampler...\n",
      "Initializing NUTS using jitter+adapt_diag...\n",
      "Multiprocess sampling (4 chains in 4 jobs)\n",
      "NUTS: [D, A2, A1]\n",
      "Sampling 4 chains, 0 divergences: 100%|██████████| 48000/48000 [00:18<00:00, 2652.26draws/s]\n"
     ]
    },
    {
     "name": "stdout",
     "output_type": "stream",
     "text": [
      "predicted C:  16.632803759440662  +-  1.7428745772682237\n",
      "pearson:  0.9014035959354845\n"
     ]
    },
    {
     "name": "stderr",
     "output_type": "stream",
     "text": [
      "Auto-assigning NUTS sampler...\n",
      "Initializing NUTS using jitter+adapt_diag...\n",
      "Multiprocess sampling (4 chains in 4 jobs)\n",
      "NUTS: [D, A2, A1]\n",
      "Sampling 4 chains, 0 divergences: 100%|██████████| 48000/48000 [00:18<00:00, 2648.54draws/s]\n"
     ]
    },
    {
     "name": "stdout",
     "output_type": "stream",
     "text": [
      "predicted C:  18.59989514909905  +-  1.9183064298428545\n",
      "pearson:  0.8995076312028736\n"
     ]
    },
    {
     "name": "stderr",
     "output_type": "stream",
     "text": [
      "Auto-assigning NUTS sampler...\n",
      "Initializing NUTS using jitter+adapt_diag...\n",
      "Multiprocess sampling (4 chains in 4 jobs)\n",
      "NUTS: [D, A2, A1]\n",
      "Sampling 4 chains, 0 divergences: 100%|██████████| 48000/48000 [00:17<00:00, 2698.26draws/s]\n"
     ]
    },
    {
     "name": "stdout",
     "output_type": "stream",
     "text": [
      "predicted C:  18.260146381048767  +-  1.8868156706307195\n",
      "pearson:  0.9078806028282667\n"
     ]
    },
    {
     "name": "stderr",
     "output_type": "stream",
     "text": [
      "Auto-assigning NUTS sampler...\n",
      "Initializing NUTS using jitter+adapt_diag...\n",
      "Multiprocess sampling (4 chains in 4 jobs)\n",
      "NUTS: [D, A2, A1]\n",
      "Sampling 4 chains, 0 divergences: 100%|██████████| 48000/48000 [00:18<00:00, 2534.57draws/s]\n"
     ]
    },
    {
     "name": "stdout",
     "output_type": "stream",
     "text": [
      "predicted C:  20.723246153678886  +-  2.171726828665101\n",
      "pearson:  0.8895622370413057\n"
     ]
    },
    {
     "name": "stderr",
     "output_type": "stream",
     "text": [
      "Auto-assigning NUTS sampler...\n",
      "Initializing NUTS using jitter+adapt_diag...\n",
      "Multiprocess sampling (4 chains in 4 jobs)\n",
      "NUTS: [D, A2, A1]\n",
      "Sampling 4 chains, 0 divergences: 100%|██████████| 48000/48000 [00:19<00:00, 2417.67draws/s]\n"
     ]
    },
    {
     "name": "stdout",
     "output_type": "stream",
     "text": [
      "predicted C:  16.31189137663587  +-  1.6219262556717655\n",
      "pearson:  0.9004132103808697\n"
     ]
    },
    {
     "name": "stderr",
     "output_type": "stream",
     "text": [
      "Auto-assigning NUTS sampler...\n",
      "Initializing NUTS using jitter+adapt_diag...\n",
      "Multiprocess sampling (4 chains in 4 jobs)\n",
      "NUTS: [D, A2, A1]\n",
      "Sampling 4 chains, 0 divergences: 100%|██████████| 48000/48000 [00:19<00:00, 2465.18draws/s]\n"
     ]
    },
    {
     "name": "stdout",
     "output_type": "stream",
     "text": [
      "predicted C:  18.462928248823392  +-  1.8577799502393515\n",
      "pearson:  0.9076096927931396\n"
     ]
    },
    {
     "name": "stderr",
     "output_type": "stream",
     "text": [
      "Auto-assigning NUTS sampler...\n",
      "Initializing NUTS using jitter+adapt_diag...\n",
      "Multiprocess sampling (4 chains in 4 jobs)\n",
      "NUTS: [D, A2, A1]\n",
      "Sampling 4 chains, 0 divergences: 100%|██████████| 48000/48000 [00:17<00:00, 2673.44draws/s]\n"
     ]
    },
    {
     "name": "stdout",
     "output_type": "stream",
     "text": [
      "predicted C:  20.378920858461846  +-  2.224467442751959\n",
      "pearson:  0.9098647815248282\n"
     ]
    },
    {
     "name": "stderr",
     "output_type": "stream",
     "text": [
      "Auto-assigning NUTS sampler...\n",
      "Initializing NUTS using jitter+adapt_diag...\n",
      "Multiprocess sampling (4 chains in 4 jobs)\n",
      "NUTS: [D, A2, A1]\n",
      "Sampling 4 chains, 0 divergences: 100%|██████████| 48000/48000 [00:17<00:00, 2694.17draws/s]\n"
     ]
    },
    {
     "name": "stdout",
     "output_type": "stream",
     "text": [
      "predicted C:  20.621183609021525  +-  2.1713105872081555\n",
      "pearson:  0.8871354729236086\n"
     ]
    },
    {
     "name": "stderr",
     "output_type": "stream",
     "text": [
      "Auto-assigning NUTS sampler...\n",
      "Initializing NUTS using jitter+adapt_diag...\n",
      "Multiprocess sampling (4 chains in 4 jobs)\n",
      "NUTS: [D, A2, A1]\n",
      "Sampling 4 chains, 0 divergences: 100%|██████████| 48000/48000 [00:18<00:00, 2562.66draws/s]\n"
     ]
    },
    {
     "name": "stdout",
     "output_type": "stream",
     "text": [
      "predicted C:  16.039861596414053  +-  1.6845132256491782\n",
      "pearson:  0.9003530002794966\n"
     ]
    },
    {
     "name": "stderr",
     "output_type": "stream",
     "text": [
      "Auto-assigning NUTS sampler...\n",
      "Initializing NUTS using jitter+adapt_diag...\n",
      "Multiprocess sampling (4 chains in 4 jobs)\n",
      "NUTS: [D, A2, A1]\n",
      "Sampling 4 chains, 0 divergences: 100%|██████████| 48000/48000 [00:18<00:00, 2665.60draws/s]\n"
     ]
    },
    {
     "name": "stdout",
     "output_type": "stream",
     "text": [
      "predicted C:  18.572756308318013  +-  2.0057062837705453\n",
      "pearson:  0.8892032131325488\n"
     ]
    },
    {
     "name": "stderr",
     "output_type": "stream",
     "text": [
      "Auto-assigning NUTS sampler...\n",
      "Initializing NUTS using jitter+adapt_diag...\n",
      "Multiprocess sampling (4 chains in 4 jobs)\n",
      "NUTS: [D, A2, A1]\n",
      "Sampling 4 chains, 0 divergences: 100%|██████████| 48000/48000 [00:17<00:00, 2782.89draws/s]\n"
     ]
    },
    {
     "name": "stdout",
     "output_type": "stream",
     "text": [
      "predicted C:  16.443843044884428  +-  1.7029740094647836\n",
      "pearson:  0.8850953399332\n"
     ]
    },
    {
     "name": "stderr",
     "output_type": "stream",
     "text": [
      "Auto-assigning NUTS sampler...\n",
      "Initializing NUTS using jitter+adapt_diag...\n",
      "Multiprocess sampling (4 chains in 4 jobs)\n",
      "NUTS: [D, A2, A1]\n",
      "Sampling 4 chains, 0 divergences: 100%|██████████| 48000/48000 [00:17<00:00, 2731.72draws/s]\n"
     ]
    },
    {
     "name": "stdout",
     "output_type": "stream",
     "text": [
      "predicted C:  15.7853588886596  +-  1.583281827352211\n",
      "pearson:  0.9025880694517768\n"
     ]
    },
    {
     "name": "stderr",
     "output_type": "stream",
     "text": [
      "Auto-assigning NUTS sampler...\n",
      "Initializing NUTS using jitter+adapt_diag...\n",
      "Multiprocess sampling (4 chains in 4 jobs)\n",
      "NUTS: [D, A2, A1]\n",
      "Sampling 4 chains, 0 divergences: 100%|██████████| 48000/48000 [00:17<00:00, 2727.59draws/s]\n"
     ]
    },
    {
     "name": "stdout",
     "output_type": "stream",
     "text": [
      "predicted C:  18.84203269810611  +-  1.9661660228412774\n",
      "pearson:  0.8952659615912134\n"
     ]
    },
    {
     "name": "stderr",
     "output_type": "stream",
     "text": [
      "Auto-assigning NUTS sampler...\n",
      "Initializing NUTS using jitter+adapt_diag...\n",
      "Multiprocess sampling (4 chains in 4 jobs)\n",
      "NUTS: [D, A2, A1]\n",
      "Sampling 4 chains, 0 divergences: 100%|██████████| 48000/48000 [00:18<00:00, 2593.65draws/s]\n"
     ]
    },
    {
     "name": "stdout",
     "output_type": "stream",
     "text": [
      "predicted C:  17.5902817782071  +-  1.7613388095913087\n",
      "pearson:  0.8883236174002911\n"
     ]
    },
    {
     "name": "stderr",
     "output_type": "stream",
     "text": [
      "Auto-assigning NUTS sampler...\n",
      "Initializing NUTS using jitter+adapt_diag...\n",
      "Multiprocess sampling (4 chains in 4 jobs)\n",
      "NUTS: [D, A2, A1]\n",
      "Sampling 4 chains, 0 divergences: 100%|██████████| 48000/48000 [00:18<00:00, 2583.77draws/s]\n"
     ]
    },
    {
     "name": "stdout",
     "output_type": "stream",
     "text": [
      "predicted C:  16.289765354742176  +-  1.6613410475327186\n",
      "pearson:  0.8888956618311037\n"
     ]
    },
    {
     "name": "stderr",
     "output_type": "stream",
     "text": [
      "Auto-assigning NUTS sampler...\n",
      "Initializing NUTS using jitter+adapt_diag...\n",
      "Multiprocess sampling (4 chains in 4 jobs)\n",
      "NUTS: [D, A2, A1]\n",
      "Sampling 4 chains, 0 divergences: 100%|██████████| 48000/48000 [00:17<00:00, 2702.43draws/s]\n"
     ]
    },
    {
     "name": "stdout",
     "output_type": "stream",
     "text": [
      "predicted C:  16.346570479734673  +-  1.6397992356932174\n",
      "pearson:  0.8999946466476119\n"
     ]
    },
    {
     "name": "stderr",
     "output_type": "stream",
     "text": [
      "Auto-assigning NUTS sampler...\n",
      "Initializing NUTS using jitter+adapt_diag...\n",
      "Multiprocess sampling (4 chains in 4 jobs)\n",
      "NUTS: [D, A2, A1]\n",
      "Sampling 4 chains, 0 divergences: 100%|██████████| 48000/48000 [00:16<00:00, 2885.48draws/s]\n"
     ]
    },
    {
     "name": "stdout",
     "output_type": "stream",
     "text": [
      "predicted C:  18.40088050203552  +-  1.8687107929999944\n",
      "pearson:  0.8907802735706575\n"
     ]
    },
    {
     "name": "stderr",
     "output_type": "stream",
     "text": [
      "Auto-assigning NUTS sampler...\n",
      "Initializing NUTS using jitter+adapt_diag...\n",
      "Multiprocess sampling (4 chains in 4 jobs)\n",
      "NUTS: [D, A2, A1]\n",
      "Sampling 4 chains, 0 divergences: 100%|██████████| 48000/48000 [00:16<00:00, 2890.08draws/s]\n"
     ]
    },
    {
     "name": "stdout",
     "output_type": "stream",
     "text": [
      "predicted C:  16.669490269335448  +-  1.654324550998887\n",
      "pearson:  0.8729055100124454\n"
     ]
    },
    {
     "name": "stderr",
     "output_type": "stream",
     "text": [
      "Auto-assigning NUTS sampler...\n",
      "Initializing NUTS using jitter+adapt_diag...\n",
      "Multiprocess sampling (4 chains in 4 jobs)\n",
      "NUTS: [D, A2, A1]\n",
      "Sampling 4 chains, 0 divergences: 100%|██████████| 48000/48000 [00:18<00:00, 2583.66draws/s]\n"
     ]
    },
    {
     "name": "stdout",
     "output_type": "stream",
     "text": [
      "predicted C:  13.964472596988061  +-  1.4344886906842287\n",
      "pearson:  0.9094168137704959\n"
     ]
    },
    {
     "name": "stderr",
     "output_type": "stream",
     "text": [
      "Auto-assigning NUTS sampler...\n",
      "Initializing NUTS using jitter+adapt_diag...\n",
      "Multiprocess sampling (4 chains in 4 jobs)\n",
      "NUTS: [D, A2, A1]\n",
      "Sampling 4 chains, 0 divergences: 100%|██████████| 48000/48000 [00:15<00:00, 3031.74draws/s]\n"
     ]
    },
    {
     "name": "stdout",
     "output_type": "stream",
     "text": [
      "predicted C:  20.58832038635027  +-  2.11589442720517\n",
      "pearson:  0.8933272185877963\n"
     ]
    },
    {
     "name": "stderr",
     "output_type": "stream",
     "text": [
      "Auto-assigning NUTS sampler...\n",
      "Initializing NUTS using jitter+adapt_diag...\n",
      "Multiprocess sampling (4 chains in 4 jobs)\n",
      "NUTS: [D, A2, A1]\n",
      "Sampling 4 chains, 0 divergences: 100%|██████████| 48000/48000 [00:18<00:00, 2586.47draws/s]\n"
     ]
    },
    {
     "name": "stdout",
     "output_type": "stream",
     "text": [
      "predicted C:  17.147230606488016  +-  1.707062664651711\n",
      "pearson:  0.8976857127881157\n"
     ]
    },
    {
     "name": "stderr",
     "output_type": "stream",
     "text": [
      "Auto-assigning NUTS sampler...\n",
      "Initializing NUTS using jitter+adapt_diag...\n",
      "Multiprocess sampling (4 chains in 4 jobs)\n",
      "NUTS: [D, A2, A1]\n",
      "Sampling 4 chains, 0 divergences: 100%|██████████| 48000/48000 [00:16<00:00, 2911.22draws/s]\n"
     ]
    },
    {
     "name": "stdout",
     "output_type": "stream",
     "text": [
      "predicted C:  18.036103512871744  +-  1.9194836859791575\n",
      "pearson:  0.8975436890793739\n"
     ]
    },
    {
     "name": "stderr",
     "output_type": "stream",
     "text": [
      "Auto-assigning NUTS sampler...\n",
      "Initializing NUTS using jitter+adapt_diag...\n",
      "Multiprocess sampling (4 chains in 4 jobs)\n",
      "NUTS: [D, A2, A1]\n",
      "Sampling 4 chains, 0 divergences: 100%|██████████| 48000/48000 [00:15<00:00, 3121.72draws/s]\n"
     ]
    },
    {
     "name": "stdout",
     "output_type": "stream",
     "text": [
      "predicted C:  18.15885024685944  +-  1.8688844282252235\n",
      "pearson:  0.8912251878416274\n"
     ]
    },
    {
     "name": "stderr",
     "output_type": "stream",
     "text": [
      "Auto-assigning NUTS sampler...\n",
      "Initializing NUTS using jitter+adapt_diag...\n",
      "Multiprocess sampling (4 chains in 4 jobs)\n",
      "NUTS: [D, A2, A1]\n",
      "Sampling 4 chains, 0 divergences: 100%|██████████| 48000/48000 [00:15<00:00, 3178.03draws/s]\n"
     ]
    },
    {
     "name": "stdout",
     "output_type": "stream",
     "text": [
      "predicted C:  17.153366747288413  +-  1.7544578902633672\n",
      "pearson:  0.9121852608211856\n"
     ]
    },
    {
     "name": "stderr",
     "output_type": "stream",
     "text": [
      "Auto-assigning NUTS sampler...\n",
      "Initializing NUTS using jitter+adapt_diag...\n",
      "Multiprocess sampling (4 chains in 4 jobs)\n",
      "NUTS: [D, A2, A1]\n",
      "Sampling 4 chains, 0 divergences: 100%|██████████| 48000/48000 [00:15<00:00, 3113.60draws/s]\n"
     ]
    },
    {
     "name": "stdout",
     "output_type": "stream",
     "text": [
      "predicted C:  21.56631765408614  +-  2.3755504477018317\n",
      "pearson:  0.8990928228904228\n"
     ]
    },
    {
     "name": "stderr",
     "output_type": "stream",
     "text": [
      "Auto-assigning NUTS sampler...\n",
      "Initializing NUTS using jitter+adapt_diag...\n",
      "Multiprocess sampling (4 chains in 4 jobs)\n",
      "NUTS: [D, A2, A1]\n",
      "Sampling 4 chains, 0 divergences: 100%|██████████| 48000/48000 [00:15<00:00, 3054.61draws/s]\n"
     ]
    },
    {
     "name": "stdout",
     "output_type": "stream",
     "text": [
      "predicted C:  18.150568499353476  +-  1.8733567337212598\n",
      "pearson:  0.9015779055618564\n"
     ]
    },
    {
     "name": "stderr",
     "output_type": "stream",
     "text": [
      "Auto-assigning NUTS sampler...\n",
      "Initializing NUTS using jitter+adapt_diag...\n",
      "Multiprocess sampling (4 chains in 4 jobs)\n",
      "NUTS: [D, A2, A1]\n",
      "Sampling 4 chains, 0 divergences: 100%|██████████| 48000/48000 [00:15<00:00, 3198.19draws/s]\n"
     ]
    },
    {
     "name": "stdout",
     "output_type": "stream",
     "text": [
      "predicted C:  18.77522633219605  +-  1.9261860848402017\n",
      "pearson:  0.8994181021489758\n"
     ]
    },
    {
     "name": "stderr",
     "output_type": "stream",
     "text": [
      "Auto-assigning NUTS sampler...\n",
      "Initializing NUTS using jitter+adapt_diag...\n",
      "Multiprocess sampling (4 chains in 4 jobs)\n",
      "NUTS: [D, A2, A1]\n",
      "Sampling 4 chains, 0 divergences: 100%|██████████| 48000/48000 [00:14<00:00, 3211.93draws/s]\n"
     ]
    },
    {
     "name": "stdout",
     "output_type": "stream",
     "text": [
      "predicted C:  18.247427244844953  +-  1.8474453988555921\n",
      "pearson:  0.8967631519677873\n"
     ]
    },
    {
     "name": "stderr",
     "output_type": "stream",
     "text": [
      "Auto-assigning NUTS sampler...\n",
      "Initializing NUTS using jitter+adapt_diag...\n",
      "Multiprocess sampling (4 chains in 4 jobs)\n",
      "NUTS: [D, A2, A1]\n",
      "Sampling 4 chains, 0 divergences: 100%|██████████| 48000/48000 [00:15<00:00, 3166.18draws/s]\n"
     ]
    },
    {
     "name": "stdout",
     "output_type": "stream",
     "text": [
      "predicted C:  18.0141633526327  +-  1.9066035183199395\n",
      "pearson:  0.8921374345870597\n"
     ]
    },
    {
     "name": "stderr",
     "output_type": "stream",
     "text": [
      "Auto-assigning NUTS sampler...\n",
      "Initializing NUTS using jitter+adapt_diag...\n",
      "Multiprocess sampling (4 chains in 4 jobs)\n",
      "NUTS: [D, A2, A1]\n",
      "Sampling 4 chains, 0 divergences: 100%|██████████| 48000/48000 [00:14<00:00, 3222.79draws/s]\n"
     ]
    },
    {
     "name": "stdout",
     "output_type": "stream",
     "text": [
      "predicted C:  17.016322190074295  +-  1.7439618146329168\n",
      "pearson:  0.9046600435474402\n"
     ]
    },
    {
     "name": "stderr",
     "output_type": "stream",
     "text": [
      "Auto-assigning NUTS sampler...\n",
      "Initializing NUTS using jitter+adapt_diag...\n",
      "Multiprocess sampling (4 chains in 4 jobs)\n",
      "NUTS: [D, A2, A1]\n",
      "Sampling 4 chains, 0 divergences: 100%|██████████| 48000/48000 [00:15<00:00, 3040.39draws/s]\n"
     ]
    },
    {
     "name": "stdout",
     "output_type": "stream",
     "text": [
      "predicted C:  19.651651835855283  +-  2.056674190707184\n",
      "pearson:  0.9017121918640769\n"
     ]
    },
    {
     "name": "stderr",
     "output_type": "stream",
     "text": [
      "Auto-assigning NUTS sampler...\n",
      "Initializing NUTS using jitter+adapt_diag...\n",
      "Multiprocess sampling (4 chains in 4 jobs)\n",
      "NUTS: [D, A2, A1]\n",
      "Sampling 4 chains, 0 divergences: 100%|██████████| 48000/48000 [00:14<00:00, 3232.20draws/s]\n"
     ]
    },
    {
     "name": "stdout",
     "output_type": "stream",
     "text": [
      "predicted C:  18.8317654571889  +-  2.0462240175740205\n",
      "pearson:  0.9006063632307396\n"
     ]
    },
    {
     "name": "stderr",
     "output_type": "stream",
     "text": [
      "Auto-assigning NUTS sampler...\n",
      "Initializing NUTS using jitter+adapt_diag...\n",
      "Multiprocess sampling (4 chains in 4 jobs)\n",
      "NUTS: [D, A2, A1]\n",
      "Sampling 4 chains, 0 divergences: 100%|██████████| 48000/48000 [00:15<00:00, 3071.66draws/s]\n"
     ]
    },
    {
     "name": "stdout",
     "output_type": "stream",
     "text": [
      "predicted C:  18.44041375498639  +-  1.9077302136340155\n",
      "pearson:  0.9029460537100491\n"
     ]
    },
    {
     "name": "stderr",
     "output_type": "stream",
     "text": [
      "Auto-assigning NUTS sampler...\n",
      "Initializing NUTS using jitter+adapt_diag...\n",
      "Multiprocess sampling (4 chains in 4 jobs)\n",
      "NUTS: [D, A2, A1]\n",
      "Sampling 4 chains, 0 divergences: 100%|██████████| 48000/48000 [00:14<00:00, 3240.69draws/s]\n"
     ]
    },
    {
     "name": "stdout",
     "output_type": "stream",
     "text": [
      "predicted C:  19.146473494064853  +-  2.0218059656329115\n",
      "pearson:  0.9036350698418081\n"
     ]
    },
    {
     "name": "stderr",
     "output_type": "stream",
     "text": [
      "Auto-assigning NUTS sampler...\n",
      "Initializing NUTS using jitter+adapt_diag...\n",
      "Multiprocess sampling (4 chains in 4 jobs)\n",
      "NUTS: [D, A2, A1]\n",
      "Sampling 4 chains, 0 divergences: 100%|██████████| 48000/48000 [00:14<00:00, 3264.60draws/s]\n"
     ]
    },
    {
     "name": "stdout",
     "output_type": "stream",
     "text": [
      "predicted C:  19.07157099911393  +-  2.0246784314332107\n",
      "pearson:  0.8859657037045641\n"
     ]
    },
    {
     "name": "stderr",
     "output_type": "stream",
     "text": [
      "Auto-assigning NUTS sampler...\n",
      "Initializing NUTS using jitter+adapt_diag...\n",
      "Multiprocess sampling (4 chains in 4 jobs)\n",
      "NUTS: [D, A2, A1]\n",
      "Sampling 4 chains, 0 divergences: 100%|██████████| 48000/48000 [00:14<00:00, 3217.78draws/s]\n"
     ]
    },
    {
     "name": "stdout",
     "output_type": "stream",
     "text": [
      "predicted C:  15.761209413233813  +-  1.5303750704173933\n",
      "pearson:  0.9101194197198877\n"
     ]
    },
    {
     "name": "stderr",
     "output_type": "stream",
     "text": [
      "Auto-assigning NUTS sampler...\n",
      "Initializing NUTS using jitter+adapt_diag...\n",
      "Multiprocess sampling (4 chains in 4 jobs)\n",
      "NUTS: [D, A2, A1]\n",
      "Sampling 4 chains, 0 divergences: 100%|██████████| 48000/48000 [00:14<00:00, 3269.22draws/s]\n"
     ]
    },
    {
     "name": "stdout",
     "output_type": "stream",
     "text": [
      "predicted C:  20.723290246119127  +-  2.232233415086898\n",
      "pearson:  0.9023910325259179\n"
     ]
    },
    {
     "name": "stderr",
     "output_type": "stream",
     "text": [
      "Auto-assigning NUTS sampler...\n",
      "Initializing NUTS using jitter+adapt_diag...\n",
      "Multiprocess sampling (4 chains in 4 jobs)\n",
      "NUTS: [D, A2, A1]\n",
      "Sampling 4 chains, 0 divergences: 100%|██████████| 48000/48000 [00:14<00:00, 3321.93draws/s]\n"
     ]
    },
    {
     "name": "stdout",
     "output_type": "stream",
     "text": [
      "predicted C:  18.886421389025955  +-  1.897284062948463\n",
      "pearson:  0.8856648567839491\n"
     ]
    },
    {
     "name": "stderr",
     "output_type": "stream",
     "text": [
      "Auto-assigning NUTS sampler...\n",
      "Initializing NUTS using jitter+adapt_diag...\n",
      "Multiprocess sampling (4 chains in 4 jobs)\n",
      "NUTS: [D, A2, A1]\n",
      "Sampling 4 chains, 0 divergences: 100%|██████████| 48000/48000 [00:14<00:00, 3363.12draws/s]\n"
     ]
    },
    {
     "name": "stdout",
     "output_type": "stream",
     "text": [
      "predicted C:  16.138604707518038  +-  1.6449566576348595\n",
      "pearson:  0.8771578039202629\n"
     ]
    },
    {
     "name": "stderr",
     "output_type": "stream",
     "text": [
      "Auto-assigning NUTS sampler...\n",
      "Initializing NUTS using jitter+adapt_diag...\n",
      "Multiprocess sampling (4 chains in 4 jobs)\n",
      "NUTS: [D, A2, A1]\n",
      "Sampling 4 chains, 0 divergences: 100%|██████████| 48000/48000 [00:14<00:00, 3352.55draws/s]\n"
     ]
    },
    {
     "name": "stdout",
     "output_type": "stream",
     "text": [
      "predicted C:  14.515799230724026  +-  1.3999275451976123\n",
      "pearson:  0.9139738639419189\n"
     ]
    },
    {
     "name": "stderr",
     "output_type": "stream",
     "text": [
      "Auto-assigning NUTS sampler...\n",
      "Initializing NUTS using jitter+adapt_diag...\n",
      "Multiprocess sampling (4 chains in 4 jobs)\n",
      "NUTS: [D, A2, A1]\n",
      "Sampling 4 chains, 0 divergences: 100%|██████████| 48000/48000 [00:14<00:00, 3296.44draws/s]\n"
     ]
    },
    {
     "name": "stdout",
     "output_type": "stream",
     "text": [
      "predicted C:  22.089466108088228  +-  2.3863925215833155\n",
      "pearson:  0.8971473573603588\n"
     ]
    },
    {
     "name": "stderr",
     "output_type": "stream",
     "text": [
      "Auto-assigning NUTS sampler...\n",
      "Initializing NUTS using jitter+adapt_diag...\n",
      "Multiprocess sampling (4 chains in 4 jobs)\n",
      "NUTS: [D, A2, A1]\n",
      "Sampling 4 chains, 0 divergences: 100%|██████████| 48000/48000 [00:14<00:00, 3256.10draws/s]\n"
     ]
    },
    {
     "name": "stdout",
     "output_type": "stream",
     "text": [
      "predicted C:  17.9053937476125  +-  1.8557484830220914\n",
      "pearson:  0.9046262684408848\n"
     ]
    },
    {
     "name": "stderr",
     "output_type": "stream",
     "text": [
      "Auto-assigning NUTS sampler...\n",
      "Initializing NUTS using jitter+adapt_diag...\n",
      "Multiprocess sampling (4 chains in 4 jobs)\n",
      "NUTS: [D, A2, A1]\n",
      "Sampling 4 chains, 0 divergences: 100%|██████████| 48000/48000 [00:14<00:00, 3383.77draws/s]\n"
     ]
    },
    {
     "name": "stdout",
     "output_type": "stream",
     "text": [
      "predicted C:  19.750600088818967  +-  2.191720380194471\n",
      "pearson:  0.9093782732484885\n"
     ]
    },
    {
     "name": "stderr",
     "output_type": "stream",
     "text": [
      "Auto-assigning NUTS sampler...\n",
      "Initializing NUTS using jitter+adapt_diag...\n",
      "Multiprocess sampling (4 chains in 4 jobs)\n",
      "NUTS: [D, A2, A1]\n",
      "Sampling 4 chains, 0 divergences: 100%|██████████| 48000/48000 [00:14<00:00, 3341.26draws/s]\n"
     ]
    },
    {
     "name": "stdout",
     "output_type": "stream",
     "text": [
      "predicted C:  20.61430414431365  +-  2.124430331788869\n",
      "pearson:  0.8948278917082846\n"
     ]
    },
    {
     "name": "stderr",
     "output_type": "stream",
     "text": [
      "Auto-assigning NUTS sampler...\n",
      "Initializing NUTS using jitter+adapt_diag...\n",
      "Multiprocess sampling (4 chains in 4 jobs)\n",
      "NUTS: [D, A2, A1]\n",
      "Sampling 4 chains, 0 divergences: 100%|██████████| 48000/48000 [00:14<00:00, 3365.72draws/s]\n"
     ]
    },
    {
     "name": "stdout",
     "output_type": "stream",
     "text": [
      "predicted C:  17.356911363631617  +-  1.785598720502557\n",
      "pearson:  0.9048520467122003\n"
     ]
    },
    {
     "name": "stderr",
     "output_type": "stream",
     "text": [
      "Auto-assigning NUTS sampler...\n",
      "Initializing NUTS using jitter+adapt_diag...\n",
      "Multiprocess sampling (4 chains in 4 jobs)\n",
      "NUTS: [D, A2, A1]\n",
      "Sampling 4 chains, 0 divergences: 100%|██████████| 48000/48000 [00:14<00:00, 3304.25draws/s]\n"
     ]
    },
    {
     "name": "stdout",
     "output_type": "stream",
     "text": [
      "predicted C:  19.41881495274398  +-  1.9552688487599512\n",
      "pearson:  0.9004854446429922\n"
     ]
    },
    {
     "name": "stderr",
     "output_type": "stream",
     "text": [
      "Auto-assigning NUTS sampler...\n",
      "Initializing NUTS using jitter+adapt_diag...\n",
      "Multiprocess sampling (4 chains in 4 jobs)\n",
      "NUTS: [D, A2, A1]\n",
      "Sampling 4 chains, 0 divergences: 100%|██████████| 48000/48000 [00:14<00:00, 3374.80draws/s]\n"
     ]
    },
    {
     "name": "stdout",
     "output_type": "stream",
     "text": [
      "predicted C:  18.511045408503087  +-  1.860225419161416\n",
      "pearson:  0.9045400218989577\n"
     ]
    },
    {
     "name": "stderr",
     "output_type": "stream",
     "text": [
      "Auto-assigning NUTS sampler...\n",
      "Initializing NUTS using jitter+adapt_diag...\n",
      "Multiprocess sampling (4 chains in 4 jobs)\n",
      "NUTS: [D, A2, A1]\n",
      "Sampling 4 chains, 0 divergences: 100%|██████████| 48000/48000 [00:15<00:00, 3199.71draws/s]\n"
     ]
    },
    {
     "name": "stdout",
     "output_type": "stream",
     "text": [
      "predicted C:  19.335673396079756  +-  1.9453155188471036\n",
      "pearson:  0.9143185777142235\n"
     ]
    },
    {
     "name": "stderr",
     "output_type": "stream",
     "text": [
      "Auto-assigning NUTS sampler...\n",
      "Initializing NUTS using jitter+adapt_diag...\n",
      "Multiprocess sampling (4 chains in 4 jobs)\n",
      "NUTS: [D, A2, A1]\n",
      "Sampling 4 chains, 0 divergences: 100%|██████████| 48000/48000 [00:14<00:00, 3246.57draws/s]\n"
     ]
    },
    {
     "name": "stdout",
     "output_type": "stream",
     "text": [
      "predicted C:  21.76237463729834  +-  2.401711370414934\n",
      "pearson:  0.8806545180388579\n"
     ]
    },
    {
     "name": "stderr",
     "output_type": "stream",
     "text": [
      "Auto-assigning NUTS sampler...\n",
      "Initializing NUTS using jitter+adapt_diag...\n",
      "Multiprocess sampling (4 chains in 4 jobs)\n",
      "NUTS: [D, A2, A1]\n",
      "Sampling 4 chains, 0 divergences: 100%|██████████| 48000/48000 [00:14<00:00, 3306.70draws/s]\n"
     ]
    },
    {
     "name": "stdout",
     "output_type": "stream",
     "text": [
      "predicted C:  15.385041034441855  +-  1.4784837788458562\n",
      "pearson:  0.9056022221017347\n"
     ]
    },
    {
     "name": "stderr",
     "output_type": "stream",
     "text": [
      "Auto-assigning NUTS sampler...\n",
      "Initializing NUTS using jitter+adapt_diag...\n",
      "Multiprocess sampling (4 chains in 4 jobs)\n",
      "NUTS: [D, A2, A1]\n",
      "Sampling 4 chains, 0 divergences: 100%|██████████| 48000/48000 [00:14<00:00, 3241.91draws/s]\n"
     ]
    },
    {
     "name": "stdout",
     "output_type": "stream",
     "text": [
      "predicted C:  19.69103879616799  +-  2.11962873188787\n",
      "pearson:  0.8991521964344338\n"
     ]
    },
    {
     "name": "stderr",
     "output_type": "stream",
     "text": [
      "Auto-assigning NUTS sampler...\n",
      "Initializing NUTS using jitter+adapt_diag...\n",
      "Multiprocess sampling (4 chains in 4 jobs)\n",
      "NUTS: [D, A2, A1]\n",
      "Sampling 4 chains, 0 divergences: 100%|██████████| 48000/48000 [00:14<00:00, 3230.42draws/s]\n"
     ]
    },
    {
     "name": "stdout",
     "output_type": "stream",
     "text": [
      "predicted C:  18.258595082678365  +-  1.8522719491961628\n",
      "pearson:  0.8891511163530924\n"
     ]
    },
    {
     "name": "stderr",
     "output_type": "stream",
     "text": [
      "Auto-assigning NUTS sampler...\n",
      "Initializing NUTS using jitter+adapt_diag...\n",
      "Multiprocess sampling (4 chains in 4 jobs)\n",
      "NUTS: [D, A2, A1]\n",
      "Sampling 4 chains, 0 divergences: 100%|██████████| 48000/48000 [00:13<00:00, 3497.60draws/s]\n"
     ]
    },
    {
     "name": "stdout",
     "output_type": "stream",
     "text": [
      "predicted C:  16.448820236306247  +-  1.690787346270769\n",
      "pearson:  0.9032790193322991\n"
     ]
    },
    {
     "name": "stderr",
     "output_type": "stream",
     "text": [
      "Auto-assigning NUTS sampler...\n",
      "Initializing NUTS using jitter+adapt_diag...\n",
      "Multiprocess sampling (4 chains in 4 jobs)\n",
      "NUTS: [D, A2, A1]\n",
      "Sampling 4 chains, 0 divergences: 100%|██████████| 48000/48000 [00:14<00:00, 3372.96draws/s]\n"
     ]
    },
    {
     "name": "stdout",
     "output_type": "stream",
     "text": [
      "predicted C:  19.141942238658544  +-  2.0010473979230725\n",
      "pearson:  0.9001601181256104\n"
     ]
    },
    {
     "name": "stderr",
     "output_type": "stream",
     "text": [
      "Auto-assigning NUTS sampler...\n",
      "Initializing NUTS using jitter+adapt_diag...\n",
      "Multiprocess sampling (4 chains in 4 jobs)\n",
      "NUTS: [D, A2, A1]\n",
      "Sampling 4 chains, 0 divergences: 100%|██████████| 48000/48000 [00:13<00:00, 3592.73draws/s]\n"
     ]
    },
    {
     "name": "stdout",
     "output_type": "stream",
     "text": [
      "predicted C:  18.289408982850492  +-  1.7804685965352973\n",
      "pearson:  0.9034377648637173\n"
     ]
    },
    {
     "name": "stderr",
     "output_type": "stream",
     "text": [
      "Auto-assigning NUTS sampler...\n",
      "Initializing NUTS using jitter+adapt_diag...\n",
      "Multiprocess sampling (4 chains in 4 jobs)\n",
      "NUTS: [D, A2, A1]\n",
      "Sampling 4 chains, 0 divergences: 100%|██████████| 48000/48000 [00:17<00:00, 2738.98draws/s]\n"
     ]
    },
    {
     "name": "stdout",
     "output_type": "stream",
     "text": [
      "predicted C:  19.164846675506485  +-  1.923713566030214\n",
      "pearson:  0.9016216558018556\n"
     ]
    },
    {
     "name": "stderr",
     "output_type": "stream",
     "text": [
      "Auto-assigning NUTS sampler...\n",
      "Initializing NUTS using jitter+adapt_diag...\n",
      "Multiprocess sampling (4 chains in 4 jobs)\n",
      "NUTS: [D, A2, A1]\n",
      "Sampling 4 chains, 0 divergences: 100%|██████████| 48000/48000 [00:16<00:00, 2846.48draws/s]\n"
     ]
    },
    {
     "name": "stdout",
     "output_type": "stream",
     "text": [
      "predicted C:  18.744374720209603  +-  1.895776762514879\n",
      "pearson:  0.8961278501175216\n"
     ]
    },
    {
     "name": "stderr",
     "output_type": "stream",
     "text": [
      "Auto-assigning NUTS sampler...\n",
      "Initializing NUTS using jitter+adapt_diag...\n",
      "Multiprocess sampling (4 chains in 4 jobs)\n",
      "NUTS: [D, A2, A1]\n",
      "Sampling 4 chains, 0 divergences: 100%|██████████| 48000/48000 [00:16<00:00, 2949.22draws/s]\n"
     ]
    },
    {
     "name": "stdout",
     "output_type": "stream",
     "text": [
      "predicted C:  17.512417474511377  +-  1.727418486870094\n",
      "pearson:  0.9044282489034969\n"
     ]
    },
    {
     "name": "stderr",
     "output_type": "stream",
     "text": [
      "Auto-assigning NUTS sampler...\n",
      "Initializing NUTS using jitter+adapt_diag...\n",
      "Multiprocess sampling (4 chains in 4 jobs)\n",
      "NUTS: [D, A2, A1]\n",
      "Sampling 4 chains, 0 divergences: 100%|██████████| 48000/48000 [00:16<00:00, 2824.48draws/s]\n"
     ]
    },
    {
     "name": "stdout",
     "output_type": "stream",
     "text": [
      "predicted C:  19.348758879515696  +-  2.0944336532298715\n"
     ]
    }
   ],
   "source": [
    "results = None\n",
    "for i in range(M):\n",
    "    coupling = 2*np.abs(rho)/(1-np.abs(rho))*np.sign(rho)\n",
    "    x1,x2 = correlated_ts(coupling,delta_t=delta_t,N=N)\n",
    "    prho = pearsonr(x1,x2)[0]\n",
    "    print(\"pearson: \",prho)\n",
    "\n",
    "    para = calc_fundstats(x1+x2) + calc_fundstats(x1-x2)\n",
    "    y1 = x1 + x2\n",
    "    y2 = x1 - x2\n",
    "    with pm.Model() as model:\n",
    "        A1 = pm.Uniform('A1', lower=0, upper=a_bound)\n",
    "        A2 = pm.Uniform('A2', lower=0, upper=a_bound)\n",
    "        D = pm.Uniform('D',lower=0,upper=5)\n",
    "            \n",
    "        B1 = pm.Deterministic('B1',pm.math.exp(-delta_t * D / A1))\n",
    "        B2 = pm.Deterministic('B2',pm.math.exp(-delta_t * D / A2))\n",
    "                                \n",
    "        path1 = Ornstein_Uhlenbeck('path1',A=A1, B=B1,shape=len(y1),observed=y1)\n",
    "        path2 = Ornstein_Uhlenbeck('path2',A=A2, B=B2,shape=len(y2),observed=y2)\n",
    "                                \n",
    "        trace = pm.sample(10000,tune=2000)\n",
    "\n",
    "    A1_trace = trace['A1']\n",
    "    A2_trace = trace['A2']\n",
    "    A1_mean = np.mean(A1_trace)\n",
    "    A2_mean = np.mean(A2_trace)\n",
    "    dA1 = np.std(A1_trace)\n",
    "    dA2 = np.std(A2_trace)\n",
    "    \n",
    "    D_trace = trace['D']\n",
    "    D_mean = np.mean(D_trace)\n",
    "    dD = np.std(D_trace)\n",
    "\n",
    "    dA1A2 = np.cov(A1_trace,A2_trace)[0,1]\n",
    "    dA1D = np.cov(A1_trace,D_trace)[0,1]\n",
    "    dA2D = np.cov(A2_trace,D_trace)[0,1]\n",
    "    \n",
    "    C_trace = (A1_trace-A2_trace)/A2_trace\n",
    "    C_mean = np.mean(C_trace)\n",
    "    dC = np.std(C_trace)\n",
    "\n",
    "    print(\"predicted C: \",C_mean,\" +- \",dC)\n",
    "\n",
    "    if results is None:\n",
    "        results = [rho,\n",
    "                   coupling,\n",
    "                   prho,\n",
    "                   C_mean,\n",
    "                   dC,\n",
    "                   A1_mean,\n",
    "                   dA1,\n",
    "                   A2_mean,\n",
    "                   dA2,\n",
    "                   D_mean,\n",
    "                   dD,\n",
    "                   dA1A2,\n",
    "                   dA1D,\n",
    "                   dA2D,\n",
    "                   para[0],\n",
    "                   para[1],\n",
    "                   para[2],\n",
    "                   para[3],\n",
    "                   para[4],\n",
    "                   para[5],\n",
    "                   C_mean,\n",
    "                   dC\n",
    "                   ]\n",
    "    else:\n",
    "        results = np.vstack((results,[rho,\n",
    "                   coupling,\n",
    "                   prho,\n",
    "                   C_mean,\n",
    "                   dC,\n",
    "                   A1_mean,\n",
    "                   dA1,\n",
    "                   A2_mean,\n",
    "                   dA2,\n",
    "                   D_mean,\n",
    "                   dD,\n",
    "                   dA1A2,\n",
    "                   dA1D,\n",
    "                   dA2D,\n",
    "                   para[0],\n",
    "                   para[1],\n",
    "                   para[2],\n",
    "                   para[3],\n",
    "                   para[4],\n",
    "                   para[5],\n",
    "                   C_mean,\n",
    "                   dC\n",
    "                   ]))\n"
   ]
  },
  {
   "cell_type": "code",
   "execution_count": 16,
   "metadata": {},
   "outputs": [
    {
     "data": {
      "text/plain": [
       "array([[ 0.9       , 18.        ,  0.89728683, ..., -1.05231367,\n",
       "        18.0555427 ,  1.84914995],\n",
       "       [ 0.9       , 18.        ,  0.88639372, ...,  3.22401807,\n",
       "        15.87780503,  1.59749555],\n",
       "       [ 0.9       , 18.        ,  0.90075455, ..., -1.03085751,\n",
       "        19.28885755,  1.99440336],\n",
       "       ...,\n",
       "       [ 0.9       , 18.        ,  0.90162166, ...,  3.16720913,\n",
       "        18.74437472,  1.89577676],\n",
       "       [ 0.9       , 18.        ,  0.89612785, ..., -1.36454011,\n",
       "        17.51241747,  1.72741849],\n",
       "       [ 0.9       , 18.        ,  0.90442825, ..., -2.23707317,\n",
       "        19.34875888,  2.09443365]])"
      ]
     },
     "execution_count": 16,
     "metadata": {},
     "output_type": "execute_result"
    }
   ],
   "source": [
    "results"
   ]
  },
  {
   "cell_type": "code",
   "execution_count": null,
   "metadata": {},
   "outputs": [],
   "source": [
    "results = DataFrame(rho = Float64[],\n",
    "                    coupling = Float64[],\n",
    "                    pearson = Float64[],\n",
    "                    a1 = Float64[],\n",
    "                    da1 = Float64[],\n",
    "                    a2 = Float64[],\n",
    "                    da2 = Float64[],\n",
    "                    d = Float64[],\n",
    "                    dd = Float64[],\n",
    "                    da1da2 = Float64[],\n",
    "                    da1dd = Float64[],\n",
    "                    dasdd = Float64[],\n",
    "                    a1ep = Float64[],\n",
    "                    a1ss = Float64[],\n",
    "                    a1c = Float64[],\n",
    "                    a2ep = Float64[],\n",
    "                    a2ss = Float64[],\n",
    "                    a2c = Float64[],\n",
    "                    c = Float64[],\n",
    "                    dc = Float64[])\n"
   ]
  },
  {
   "cell_type": "code",
   "execution_count": 17,
   "metadata": {},
   "outputs": [
    {
     "name": "stdout",
     "output_type": "stream",
     "text": [
      "    rho  coupling   pearson          C        dC        a1       da1  \\\n",
      "0   0.9      18.0  0.897287  18.055543  1.849150  1.013134  0.087223   \n",
      "1   0.9      18.0  0.886394  15.877805  1.597496  0.981562  0.081639   \n",
      "2   0.9      18.0  0.900755  19.288858  1.994403  1.062511  0.092750   \n",
      "3   0.9      18.0  0.880274  14.973885  1.496495  0.889274  0.073017   \n",
      "4   0.9      18.0  0.897228  17.810677  1.845325  1.021282  0.088738   \n",
      "..  ...       ...       ...        ...       ...       ...       ...   \n",
      "95  0.9      18.0  0.900160  18.289409  1.780469  1.024044  0.082412   \n",
      "96  0.9      18.0  0.903438  19.164847  1.923714  0.946645  0.079371   \n",
      "97  0.9      18.0  0.901622  18.744375  1.895777  0.981797  0.082615   \n",
      "98  0.9      18.0  0.896128  17.512417  1.727418  0.936731  0.076584   \n",
      "99  0.9      18.0  0.904428  19.348759  2.094434  1.056331  0.097724   \n",
      "\n",
      "          a2       da2         d  ...     da1dd         dasdd      a1ep  \\\n",
      "0   0.053275  0.002410  1.015557  ...  0.000145  2.551072e-07  1.246679   \n",
      "1   0.058277  0.002666  1.050923  ...  0.000178 -1.409790e-06  1.963859   \n",
      "2   0.052478  0.002410  1.046208  ...  0.000176  1.188520e-06  1.361825   \n",
      "3   0.055785  0.002545  0.972743  ...  0.000193 -9.216972e-07  0.490421   \n",
      "4   0.054405  0.002467  1.018767  ...  0.000158  4.987961e-07  2.617189   \n",
      "..       ...       ...       ...  ...       ...           ...       ...   \n",
      "95  0.053196  0.002394  1.140918  ...  0.000304 -1.009709e-07  1.261072   \n",
      "96  0.047042  0.002142  1.001039  ...  0.000181  7.636240e-07  0.298201   \n",
      "97  0.049829  0.002266  1.023548  ...  0.000209 -2.883673e-07  1.584332   \n",
      "98  0.050703  0.002294  1.039410  ...  0.000209  3.147446e-07  1.460499   \n",
      "99  0.052017  0.002360  0.923629  ...  0.000205  1.754064e-06  0.240743   \n",
      "\n",
      "           a1ss         a1c      a2ep       a2ss       a2c          c  \\\n",
      "0    991.241861  731.117751  0.131733  52.979265 -1.052314  18.055543   \n",
      "1    960.369212  693.123713  0.073004  57.833890  3.224018  15.877805   \n",
      "2   1039.936536  771.064834  0.119740  52.189808 -1.030858  19.288858   \n",
      "3    873.264000  626.109510  0.304187  55.155665  2.165266  14.973885   \n",
      "4    997.152726  736.109322  0.035381  54.105847  1.477689  17.810677   \n",
      "..          ...         ...       ...        ...       ...        ...   \n",
      "95  1005.285867  717.344883  0.148057  52.852760 -0.219436  18.289409   \n",
      "96   929.419512  674.450017  0.257746  46.635105 -1.572180  19.164847   \n",
      "97   961.109598  699.812369  0.072470  49.481171  3.167209  18.744375   \n",
      "98   918.307949  656.071052  0.135094  50.395826 -1.364540  17.512417   \n",
      "99  1033.433693  792.361761  0.081289  51.830007 -2.237073  19.348759   \n",
      "\n",
      "          dc  \n",
      "0   1.849150  \n",
      "1   1.597496  \n",
      "2   1.994403  \n",
      "3   1.496495  \n",
      "4   1.845325  \n",
      "..       ...  \n",
      "95  1.780469  \n",
      "96  1.923714  \n",
      "97  1.895777  \n",
      "98  1.727418  \n",
      "99  2.094434  \n",
      "\n",
      "[100 rows x 22 columns]\n"
     ]
    }
   ],
   "source": [
    "column_names = [\"rho\",\n",
    "                \"coupling\",\n",
    "                \"pearson\",\n",
    "                \"C\",\n",
    "                \"dC\",\n",
    "                 \"a1\",\n",
    "                \"da1\",\n",
    "                \"a2\",\n",
    "                \"da2\",\n",
    "                \"d\",\n",
    "                \"dd\",\n",
    "                \"da1da2\",\n",
    "                \"da1dd\",\n",
    "                \"dasdd\",\n",
    "                \"a1ep\",\n",
    "                \"a1ss\",\n",
    "                \"a1c\",\n",
    "                \"a2ep\",\n",
    "                \"a2ss\",\n",
    "                \"a2c\",\n",
    "                \"c\",\n",
    "                \"dc\"]\n",
    "df=pd.DataFrame(results,columns=column_names)\n",
    "print(df)\n",
    "df.to_csv('correlations1k09_PYMC.csv',index=False)"
   ]
  },
  {
   "cell_type": "code",
   "execution_count": null,
   "metadata": {},
   "outputs": [],
   "source": []
  }
 ],
 "metadata": {
  "kernelspec": {
   "display_name": "Python 3",
   "language": "python",
   "name": "python3"
  },
  "language_info": {
   "codemirror_mode": {
    "name": "ipython",
    "version": 3
   },
   "file_extension": ".py",
   "mimetype": "text/x-python",
   "name": "python",
   "nbconvert_exporter": "python",
   "pygments_lexer": "ipython3",
   "version": "3.6.10"
  }
 },
 "nbformat": 4,
 "nbformat_minor": 2
}
